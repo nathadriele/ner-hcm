{
  "nbformat": 4,
  "nbformat_minor": 0,
  "metadata": {
    "colab": {
      "name": "Cópia de Med_Sim_NR_RE.ipynb",
      "provenance": [],
      "collapsed_sections": [],
      "mount_file_id": "1SO-dZG_8S5fMbCeCMUKHuj8EcifqF9K6",
      "authorship_tag": "ABX9TyNFBnW9Ws0+DmUyMlATBOoG",
      "include_colab_link": true
    },
    "kernelspec": {
      "name": "python3",
      "display_name": "Python 3"
    },
    "language_info": {
      "name": "python"
    },
    "accelerator": "GPU"
  },
  "cells": [
    {
      "cell_type": "markdown",
      "metadata": {
        "id": "view-in-github",
        "colab_type": "text"
      },
      "source": [
        "<a href=\"https://colab.research.google.com/github/nathyhcm/ner-hcm/blob/main/C%C3%B3pia_de_Med_Sim_NR_RE.ipynb\" target=\"_parent\"><img src=\"https://colab.research.google.com/assets/colab-badge.svg\" alt=\"Open In Colab\"/></a>"
      ]
    },
    {
      "cell_type": "markdown",
      "source": [
        "Criar a instância no drive."
      ],
      "metadata": {
        "id": "a3G6nGnFcNM6"
      }
    },
    {
      "cell_type": "code",
      "source": [
        "from google.colab import drive\n",
        "drive.mount('/content/drive')"
      ],
      "metadata": {
        "colab": {
          "base_uri": "https://localhost:8080/"
        },
        "id": "Fc5bsooco_Nl",
        "outputId": "13931e81-a60c-4643-bc38-9a74a28cffa5"
      },
      "execution_count": 1,
      "outputs": [
        {
          "output_type": "stream",
          "name": "stdout",
          "text": [
            "Mounted at /content/drive\n"
          ]
        }
      ]
    },
    {
      "cell_type": "markdown",
      "source": [
        "Instalando bibliotecas e fazendo o download do modelo pt_core_news_lg."
      ],
      "metadata": {
        "id": "OyAuQxOgc2f-"
      }
    },
    {
      "cell_type": "code",
      "execution_count": 2,
      "metadata": {
        "colab": {
          "base_uri": "https://localhost:8080/",
          "height": 1000
        },
        "id": "8e_OHtFtn6a9",
        "outputId": "d04e8977-cae2-4b4c-acb6-4762ddaa881f"
      },
      "outputs": [
        {
          "output_type": "stream",
          "name": "stdout",
          "text": [
            "Collecting spacy==3.2.1\n",
            "  Downloading spacy-3.2.1-cp37-cp37m-manylinux_2_17_x86_64.manylinux2014_x86_64.whl (6.0 MB)\n",
            "\u001b[K     |████████████████████████████████| 6.0 MB 12.6 MB/s \n",
            "\u001b[?25hRequirement already satisfied: setuptools in /usr/local/lib/python3.7/dist-packages (from spacy==3.2.1) (57.4.0)\n",
            "Collecting catalogue<2.1.0,>=2.0.6\n",
            "  Downloading catalogue-2.0.7-py3-none-any.whl (17 kB)\n",
            "Requirement already satisfied: preshed<3.1.0,>=3.0.2 in /usr/local/lib/python3.7/dist-packages (from spacy==3.2.1) (3.0.6)\n",
            "Collecting srsly<3.0.0,>=2.4.1\n",
            "  Downloading srsly-2.4.2-cp37-cp37m-manylinux_2_17_x86_64.manylinux2014_x86_64.whl (451 kB)\n",
            "\u001b[K     |████████████████████████████████| 451 kB 47.7 MB/s \n",
            "\u001b[?25hRequirement already satisfied: tqdm<5.0.0,>=4.38.0 in /usr/local/lib/python3.7/dist-packages (from spacy==3.2.1) (4.63.0)\n",
            "Collecting pathy>=0.3.5\n",
            "  Downloading pathy-0.6.1-py3-none-any.whl (42 kB)\n",
            "\u001b[K     |████████████████████████████████| 42 kB 1.3 MB/s \n",
            "\u001b[?25hRequirement already satisfied: requests<3.0.0,>=2.13.0 in /usr/local/lib/python3.7/dist-packages (from spacy==3.2.1) (2.23.0)\n",
            "Collecting spacy-legacy<3.1.0,>=3.0.8\n",
            "  Downloading spacy_legacy-3.0.9-py2.py3-none-any.whl (20 kB)\n",
            "Collecting thinc<8.1.0,>=8.0.12\n",
            "  Downloading thinc-8.0.15-cp37-cp37m-manylinux_2_17_x86_64.manylinux2014_x86_64.whl (653 kB)\n",
            "\u001b[K     |████████████████████████████████| 653 kB 45.7 MB/s \n",
            "\u001b[?25hRequirement already satisfied: murmurhash<1.1.0,>=0.28.0 in /usr/local/lib/python3.7/dist-packages (from spacy==3.2.1) (1.0.6)\n",
            "Requirement already satisfied: typing-extensions<4.0.0.0,>=3.7.4 in /usr/local/lib/python3.7/dist-packages (from spacy==3.2.1) (3.10.0.2)\n",
            "Collecting langcodes<4.0.0,>=3.2.0\n",
            "  Downloading langcodes-3.3.0-py3-none-any.whl (181 kB)\n",
            "\u001b[K     |████████████████████████████████| 181 kB 47.0 MB/s \n",
            "\u001b[?25hRequirement already satisfied: blis<0.8.0,>=0.4.0 in /usr/local/lib/python3.7/dist-packages (from spacy==3.2.1) (0.4.1)\n",
            "Requirement already satisfied: wasabi<1.1.0,>=0.8.1 in /usr/local/lib/python3.7/dist-packages (from spacy==3.2.1) (0.9.0)\n",
            "Requirement already satisfied: numpy>=1.15.0 in /usr/local/lib/python3.7/dist-packages (from spacy==3.2.1) (1.21.5)\n",
            "Requirement already satisfied: packaging>=20.0 in /usr/local/lib/python3.7/dist-packages (from spacy==3.2.1) (21.3)\n",
            "Collecting typer<0.5.0,>=0.3.0\n",
            "  Downloading typer-0.4.1-py3-none-any.whl (27 kB)\n",
            "Requirement already satisfied: jinja2 in /usr/local/lib/python3.7/dist-packages (from spacy==3.2.1) (2.11.3)\n",
            "Requirement already satisfied: cymem<2.1.0,>=2.0.2 in /usr/local/lib/python3.7/dist-packages (from spacy==3.2.1) (2.0.6)\n",
            "Collecting pydantic!=1.8,!=1.8.1,<1.9.0,>=1.7.4\n",
            "  Downloading pydantic-1.8.2-cp37-cp37m-manylinux2014_x86_64.whl (10.1 MB)\n",
            "\u001b[K     |████████████████████████████████| 10.1 MB 7.9 MB/s \n",
            "\u001b[?25hCollecting spacy-loggers<2.0.0,>=1.0.0\n",
            "  Downloading spacy_loggers-1.0.2-py3-none-any.whl (7.2 kB)\n",
            "Requirement already satisfied: zipp>=0.5 in /usr/local/lib/python3.7/dist-packages (from catalogue<2.1.0,>=2.0.6->spacy==3.2.1) (3.7.0)\n",
            "Requirement already satisfied: pyparsing!=3.0.5,>=2.0.2 in /usr/local/lib/python3.7/dist-packages (from packaging>=20.0->spacy==3.2.1) (3.0.7)\n",
            "Requirement already satisfied: smart-open<6.0.0,>=5.0.0 in /usr/local/lib/python3.7/dist-packages (from pathy>=0.3.5->spacy==3.2.1) (5.2.1)\n",
            "Requirement already satisfied: chardet<4,>=3.0.2 in /usr/local/lib/python3.7/dist-packages (from requests<3.0.0,>=2.13.0->spacy==3.2.1) (3.0.4)\n",
            "Requirement already satisfied: idna<3,>=2.5 in /usr/local/lib/python3.7/dist-packages (from requests<3.0.0,>=2.13.0->spacy==3.2.1) (2.10)\n",
            "Requirement already satisfied: certifi>=2017.4.17 in /usr/local/lib/python3.7/dist-packages (from requests<3.0.0,>=2.13.0->spacy==3.2.1) (2021.10.8)\n",
            "Requirement already satisfied: urllib3!=1.25.0,!=1.25.1,<1.26,>=1.21.1 in /usr/local/lib/python3.7/dist-packages (from requests<3.0.0,>=2.13.0->spacy==3.2.1) (1.24.3)\n",
            "Requirement already satisfied: click<9.0.0,>=7.1.1 in /usr/local/lib/python3.7/dist-packages (from typer<0.5.0,>=0.3.0->spacy==3.2.1) (7.1.2)\n",
            "Requirement already satisfied: MarkupSafe>=0.23 in /usr/local/lib/python3.7/dist-packages (from jinja2->spacy==3.2.1) (2.0.1)\n",
            "Installing collected packages: catalogue, typer, srsly, pydantic, thinc, spacy-loggers, spacy-legacy, pathy, langcodes, spacy\n",
            "  Attempting uninstall: catalogue\n",
            "    Found existing installation: catalogue 1.0.0\n",
            "    Uninstalling catalogue-1.0.0:\n",
            "      Successfully uninstalled catalogue-1.0.0\n",
            "  Attempting uninstall: srsly\n",
            "    Found existing installation: srsly 1.0.5\n",
            "    Uninstalling srsly-1.0.5:\n",
            "      Successfully uninstalled srsly-1.0.5\n",
            "  Attempting uninstall: thinc\n",
            "    Found existing installation: thinc 7.4.0\n",
            "    Uninstalling thinc-7.4.0:\n",
            "      Successfully uninstalled thinc-7.4.0\n",
            "  Attempting uninstall: spacy\n",
            "    Found existing installation: spacy 2.2.4\n",
            "    Uninstalling spacy-2.2.4:\n",
            "      Successfully uninstalled spacy-2.2.4\n",
            "Successfully installed catalogue-2.0.7 langcodes-3.3.0 pathy-0.6.1 pydantic-1.8.2 spacy-3.2.1 spacy-legacy-3.0.9 spacy-loggers-1.0.2 srsly-2.4.2 thinc-8.0.15 typer-0.4.1\n",
            "Requirement already satisfied: pip in /usr/local/lib/python3.7/dist-packages (21.1.3)\n",
            "Collecting pip\n",
            "  Downloading pip-22.0.4-py3-none-any.whl (2.1 MB)\n",
            "\u001b[K     |████████████████████████████████| 2.1 MB 12.3 MB/s \n",
            "\u001b[?25hRequirement already satisfied: setuptools in /usr/local/lib/python3.7/dist-packages (57.4.0)\n",
            "Collecting setuptools\n",
            "  Downloading setuptools-61.3.1-py3-none-any.whl (1.1 MB)\n",
            "\u001b[K     |████████████████████████████████| 1.1 MB 40.2 MB/s \n",
            "\u001b[?25hRequirement already satisfied: wheel in /usr/local/lib/python3.7/dist-packages (0.37.1)\n",
            "Installing collected packages: setuptools, pip\n",
            "  Attempting uninstall: setuptools\n",
            "    Found existing installation: setuptools 57.4.0\n",
            "    Uninstalling setuptools-57.4.0:\n",
            "      Successfully uninstalled setuptools-57.4.0\n",
            "  Attempting uninstall: pip\n",
            "    Found existing installation: pip 21.1.3\n",
            "    Uninstalling pip-21.1.3:\n",
            "      Successfully uninstalled pip-21.1.3\n",
            "\u001b[31mERROR: pip's dependency resolver does not currently take into account all the packages that are installed. This behaviour is the source of the following dependency conflicts.\n",
            "tensorflow 2.8.0 requires tf-estimator-nightly==2.8.0.dev2021122109, which is not installed.\n",
            "datascience 0.10.6 requires folium==0.2.1, but you have folium 0.8.3 which is incompatible.\u001b[0m\n",
            "Successfully installed pip-22.0.4 setuptools-61.3.1\n"
          ]
        },
        {
          "output_type": "display_data",
          "data": {
            "application/vnd.colab-display-data+json": {
              "pip_warning": {
                "packages": [
                  "pkg_resources"
                ]
              }
            }
          },
          "metadata": {}
        },
        {
          "output_type": "stream",
          "name": "stdout",
          "text": [
            "Collecting pt-core-news-lg==3.2.0\n",
            "  Downloading https://github.com/explosion/spacy-models/releases/download/pt_core_news_lg-3.2.0/pt_core_news_lg-3.2.0-py3-none-any.whl (577.4 MB)\n",
            "\u001b[2K     \u001b[90m━━━━━━━━━━━━━━━━━━━━━━━━━━━━━━━━━━━━━━━\u001b[0m \u001b[32m577.4/577.4 MB\u001b[0m \u001b[31m2.1 MB/s\u001b[0m eta \u001b[36m0:00:00\u001b[0m\n",
            "\u001b[?25hRequirement already satisfied: spacy<3.3.0,>=3.2.0 in /usr/local/lib/python3.7/dist-packages (from pt-core-news-lg==3.2.0) (3.2.1)\n",
            "Requirement already satisfied: requests<3.0.0,>=2.13.0 in /usr/local/lib/python3.7/dist-packages (from spacy<3.3.0,>=3.2.0->pt-core-news-lg==3.2.0) (2.23.0)\n",
            "Requirement already satisfied: blis<0.8.0,>=0.4.0 in /usr/local/lib/python3.7/dist-packages (from spacy<3.3.0,>=3.2.0->pt-core-news-lg==3.2.0) (0.4.1)\n",
            "Requirement already satisfied: thinc<8.1.0,>=8.0.12 in /usr/local/lib/python3.7/dist-packages (from spacy<3.3.0,>=3.2.0->pt-core-news-lg==3.2.0) (8.0.15)\n",
            "Requirement already satisfied: pathy>=0.3.5 in /usr/local/lib/python3.7/dist-packages (from spacy<3.3.0,>=3.2.0->pt-core-news-lg==3.2.0) (0.6.1)\n",
            "Requirement already satisfied: typer<0.5.0,>=0.3.0 in /usr/local/lib/python3.7/dist-packages (from spacy<3.3.0,>=3.2.0->pt-core-news-lg==3.2.0) (0.4.1)\n",
            "Requirement already satisfied: murmurhash<1.1.0,>=0.28.0 in /usr/local/lib/python3.7/dist-packages (from spacy<3.3.0,>=3.2.0->pt-core-news-lg==3.2.0) (1.0.6)\n",
            "Requirement already satisfied: spacy-loggers<2.0.0,>=1.0.0 in /usr/local/lib/python3.7/dist-packages (from spacy<3.3.0,>=3.2.0->pt-core-news-lg==3.2.0) (1.0.2)\n",
            "Requirement already satisfied: srsly<3.0.0,>=2.4.1 in /usr/local/lib/python3.7/dist-packages (from spacy<3.3.0,>=3.2.0->pt-core-news-lg==3.2.0) (2.4.2)\n",
            "Requirement already satisfied: catalogue<2.1.0,>=2.0.6 in /usr/local/lib/python3.7/dist-packages (from spacy<3.3.0,>=3.2.0->pt-core-news-lg==3.2.0) (2.0.7)\n",
            "Requirement already satisfied: pydantic!=1.8,!=1.8.1,<1.9.0,>=1.7.4 in /usr/local/lib/python3.7/dist-packages (from spacy<3.3.0,>=3.2.0->pt-core-news-lg==3.2.0) (1.8.2)\n",
            "Requirement already satisfied: typing-extensions<4.0.0.0,>=3.7.4 in /usr/local/lib/python3.7/dist-packages (from spacy<3.3.0,>=3.2.0->pt-core-news-lg==3.2.0) (3.10.0.2)\n",
            "Requirement already satisfied: cymem<2.1.0,>=2.0.2 in /usr/local/lib/python3.7/dist-packages (from spacy<3.3.0,>=3.2.0->pt-core-news-lg==3.2.0) (2.0.6)\n",
            "Requirement already satisfied: tqdm<5.0.0,>=4.38.0 in /usr/local/lib/python3.7/dist-packages (from spacy<3.3.0,>=3.2.0->pt-core-news-lg==3.2.0) (4.63.0)\n",
            "Requirement already satisfied: numpy>=1.15.0 in /usr/local/lib/python3.7/dist-packages (from spacy<3.3.0,>=3.2.0->pt-core-news-lg==3.2.0) (1.21.5)\n",
            "Requirement already satisfied: preshed<3.1.0,>=3.0.2 in /usr/local/lib/python3.7/dist-packages (from spacy<3.3.0,>=3.2.0->pt-core-news-lg==3.2.0) (3.0.6)\n",
            "Requirement already satisfied: packaging>=20.0 in /usr/local/lib/python3.7/dist-packages (from spacy<3.3.0,>=3.2.0->pt-core-news-lg==3.2.0) (21.3)\n",
            "Requirement already satisfied: wasabi<1.1.0,>=0.8.1 in /usr/local/lib/python3.7/dist-packages (from spacy<3.3.0,>=3.2.0->pt-core-news-lg==3.2.0) (0.9.0)\n",
            "Requirement already satisfied: jinja2 in /usr/local/lib/python3.7/dist-packages (from spacy<3.3.0,>=3.2.0->pt-core-news-lg==3.2.0) (2.11.3)\n",
            "Requirement already satisfied: spacy-legacy<3.1.0,>=3.0.8 in /usr/local/lib/python3.7/dist-packages (from spacy<3.3.0,>=3.2.0->pt-core-news-lg==3.2.0) (3.0.9)\n",
            "Requirement already satisfied: setuptools in /usr/local/lib/python3.7/dist-packages (from spacy<3.3.0,>=3.2.0->pt-core-news-lg==3.2.0) (61.3.1)\n",
            "Requirement already satisfied: langcodes<4.0.0,>=3.2.0 in /usr/local/lib/python3.7/dist-packages (from spacy<3.3.0,>=3.2.0->pt-core-news-lg==3.2.0) (3.3.0)\n",
            "Requirement already satisfied: zipp>=0.5 in /usr/local/lib/python3.7/dist-packages (from catalogue<2.1.0,>=2.0.6->spacy<3.3.0,>=3.2.0->pt-core-news-lg==3.2.0) (3.7.0)\n",
            "Requirement already satisfied: pyparsing!=3.0.5,>=2.0.2 in /usr/local/lib/python3.7/dist-packages (from packaging>=20.0->spacy<3.3.0,>=3.2.0->pt-core-news-lg==3.2.0) (3.0.7)\n",
            "Requirement already satisfied: smart-open<6.0.0,>=5.0.0 in /usr/local/lib/python3.7/dist-packages (from pathy>=0.3.5->spacy<3.3.0,>=3.2.0->pt-core-news-lg==3.2.0) (5.2.1)\n",
            "Requirement already satisfied: urllib3!=1.25.0,!=1.25.1,<1.26,>=1.21.1 in /usr/local/lib/python3.7/dist-packages (from requests<3.0.0,>=2.13.0->spacy<3.3.0,>=3.2.0->pt-core-news-lg==3.2.0) (1.24.3)\n",
            "Requirement already satisfied: chardet<4,>=3.0.2 in /usr/local/lib/python3.7/dist-packages (from requests<3.0.0,>=2.13.0->spacy<3.3.0,>=3.2.0->pt-core-news-lg==3.2.0) (3.0.4)\n",
            "Requirement already satisfied: idna<3,>=2.5 in /usr/local/lib/python3.7/dist-packages (from requests<3.0.0,>=2.13.0->spacy<3.3.0,>=3.2.0->pt-core-news-lg==3.2.0) (2.10)\n",
            "Requirement already satisfied: certifi>=2017.4.17 in /usr/local/lib/python3.7/dist-packages (from requests<3.0.0,>=2.13.0->spacy<3.3.0,>=3.2.0->pt-core-news-lg==3.2.0) (2021.10.8)\n",
            "Requirement already satisfied: click<9.0.0,>=7.1.1 in /usr/local/lib/python3.7/dist-packages (from typer<0.5.0,>=0.3.0->spacy<3.3.0,>=3.2.0->pt-core-news-lg==3.2.0) (7.1.2)\n",
            "Requirement already satisfied: MarkupSafe>=0.23 in /usr/local/lib/python3.7/dist-packages (from jinja2->spacy<3.3.0,>=3.2.0->pt-core-news-lg==3.2.0) (2.0.1)\n",
            "Installing collected packages: pt-core-news-lg\n",
            "Successfully installed pt-core-news-lg-3.2.0\n",
            "\u001b[33mWARNING: Running pip as the 'root' user can result in broken permissions and conflicting behaviour with the system package manager. It is recommended to use a virtual environment instead: https://pip.pypa.io/warnings/venv\u001b[0m\u001b[33m\n",
            "\u001b[0m\u001b[38;5;2m✔ Download and installation successful\u001b[0m\n",
            "You can now load the package via spacy.load('pt_core_news_lg')\n"
          ]
        }
      ],
      "source": [
        "!pip install -U spacy==3.2.1\n",
        "!pip install -U pip setuptools wheel\n",
        "!python -m spacy download pt_core_news_lg"
      ]
    },
    {
      "cell_type": "markdown",
      "source": [
        "Executando o nvidia"
      ],
      "metadata": {
        "id": "OZpGQF3ReDhQ"
      }
    },
    {
      "cell_type": "code",
      "source": [
        "!nvidia-smi"
      ],
      "metadata": {
        "colab": {
          "base_uri": "https://localhost:8080/"
        },
        "id": "teGWDdldqLty",
        "outputId": "ea0113d5-1ab8-44e9-b698-40a6de1504ed"
      },
      "execution_count": 3,
      "outputs": [
        {
          "output_type": "stream",
          "name": "stdout",
          "text": [
            "Sat Apr  2 18:10:18 2022       \n",
            "+-----------------------------------------------------------------------------+\n",
            "| NVIDIA-SMI 460.32.03    Driver Version: 460.32.03    CUDA Version: 11.2     |\n",
            "|-------------------------------+----------------------+----------------------+\n",
            "| GPU  Name        Persistence-M| Bus-Id        Disp.A | Volatile Uncorr. ECC |\n",
            "| Fan  Temp  Perf  Pwr:Usage/Cap|         Memory-Usage | GPU-Util  Compute M. |\n",
            "|                               |                      |               MIG M. |\n",
            "|===============================+======================+======================|\n",
            "|   0  Tesla K80           Off  | 00000000:00:04.0 Off |                    0 |\n",
            "| N/A   33C    P8    26W / 149W |      0MiB / 11441MiB |      0%      Default |\n",
            "|                               |                      |                  N/A |\n",
            "+-------------------------------+----------------------+----------------------+\n",
            "                                                                               \n",
            "+-----------------------------------------------------------------------------+\n",
            "| Processes:                                                                  |\n",
            "|  GPU   GI   CI        PID   Type   Process name                  GPU Memory |\n",
            "|        ID   ID                                                   Usage      |\n",
            "|=============================================================================|\n",
            "|  No running processes found                                                 |\n",
            "+-----------------------------------------------------------------------------+\n"
          ]
        }
      ]
    },
    {
      "cell_type": "markdown",
      "source": [
        "Verificando informações do ambiente"
      ],
      "metadata": {
        "id": "N_GR36IweL0F"
      }
    },
    {
      "cell_type": "code",
      "source": [
        "!python -m spacy info"
      ],
      "metadata": {
        "colab": {
          "base_uri": "https://localhost:8080/"
        },
        "id": "5qJ6S5tCqTwr",
        "outputId": "9e3e1308-6586-4e14-b4a7-73b8aee88cd8"
      },
      "execution_count": 4,
      "outputs": [
        {
          "output_type": "stream",
          "name": "stdout",
          "text": [
            "\u001b[1m\n",
            "============================== Info about spaCy ==============================\u001b[0m\n",
            "\n",
            "spaCy version    3.2.1                         \n",
            "Location         /usr/local/lib/python3.7/dist-packages/spacy\n",
            "Platform         Linux-5.4.144+-x86_64-with-Ubuntu-18.04-bionic\n",
            "Python version   3.7.13                        \n",
            "Pipelines        pt_core_news_lg (3.2.0)       \n",
            "\n"
          ]
        }
      ]
    },
    {
      "cell_type": "markdown",
      "source": [
        "Clonando dados de configurações e de anotações de NER e relacionamentos do meu repositório."
      ],
      "metadata": {
        "id": "bu-xouACeanL"
      }
    },
    {
      "cell_type": "markdown",
      "source": [
        ""
      ],
      "metadata": {
        "id": "XB18ZfZweiPE"
      }
    },
    {
      "cell_type": "code",
      "source": [
        "!git clone https://github.com/nathyhcm/ner-hcm.git"
      ],
      "metadata": {
        "id": "EV6ZOqRHT-Xu",
        "colab": {
          "base_uri": "https://localhost:8080/"
        },
        "outputId": "545fa1a9-66d7-4cd6-e58c-a5c032ad5db3"
      },
      "execution_count": 5,
      "outputs": [
        {
          "output_type": "stream",
          "name": "stdout",
          "text": [
            "Cloning into 'ner-hcm'...\n",
            "remote: Enumerating objects: 48, done.\u001b[K\n",
            "remote: Counting objects: 100% (48/48), done.\u001b[K\n",
            "remote: Compressing objects: 100% (45/45), done.\u001b[K\n",
            "remote: Total 48 (delta 10), reused 0 (delta 0), pack-reused 0\u001b[K\n",
            "Unpacking objects: 100% (48/48), done.\n"
          ]
        }
      ]
    },
    {
      "cell_type": "markdown",
      "source": [
        "Convertendo as anotações do NER Medicamentos."
      ],
      "metadata": {
        "id": "C7WP-zvtfEta"
      }
    },
    {
      "cell_type": "code",
      "source": [
        "!python -m spacy convert /content/ner-hcm/dados/med_train.tsv ./ -t json -n 1 -c iob\n",
        "!python -m spacy convert /content/ner-hcm/dados/med_test.tsv ./ -t json -n 1 -c iob"
      ],
      "metadata": {
        "colab": {
          "base_uri": "https://localhost:8080/"
        },
        "id": "zitb-5pUqTgS",
        "outputId": "4d54d6da-8a97-4e53-d62b-e5c4dcec65c8"
      },
      "execution_count": 6,
      "outputs": [
        {
          "output_type": "stream",
          "name": "stdout",
          "text": [
            "\u001b[38;5;4mℹ Auto-detected token-per-line NER format\u001b[0m\n",
            "\u001b[38;5;3m⚠ Document delimiters found, automatic document segmentation with `-n`\n",
            "disabled.\u001b[0m\n",
            "\u001b[38;5;2m✔ Generated output file (1 documents): med_train.json\u001b[0m\n",
            "\u001b[38;5;4mℹ Auto-detected token-per-line NER format\u001b[0m\n",
            "\u001b[38;5;3m⚠ Document delimiters found, automatic document segmentation with `-n`\n",
            "disabled.\u001b[0m\n",
            "\u001b[38;5;3m⚠ No sentence boundaries found. Use `-s` to automatically segment\n",
            "sentences.\u001b[0m\n",
            "\u001b[38;5;2m✔ Generated output file (1 documents): med_test.json\u001b[0m\n"
          ]
        }
      ]
    },
    {
      "cell_type": "code",
      "source": [
        "!python -m spacy convert /content/med_train.json ./ -t spacy\n",
        "!python -m spacy convert /content/med_test.json ./ -t spacy"
      ],
      "metadata": {
        "colab": {
          "base_uri": "https://localhost:8080/"
        },
        "id": "PtFL50ruqTUN",
        "outputId": "c1b2218c-c8b5-4dd3-d754-e8779276b9a1"
      },
      "execution_count": 7,
      "outputs": [
        {
          "output_type": "stream",
          "name": "stdout",
          "text": [
            "\u001b[38;5;2m✔ Generated output file (78 documents): med_train.spacy\u001b[0m\n",
            "\u001b[38;5;2m✔ Generated output file (13 documents): med_test.spacy\u001b[0m\n"
          ]
        }
      ]
    },
    {
      "cell_type": "code",
      "source": [
        "#Instalando spacy[transformers]\n",
        "!pip install spacy[transformers]"
      ],
      "metadata": {
        "colab": {
          "base_uri": "https://localhost:8080/"
        },
        "id": "uiTMesohy-HQ",
        "outputId": "c559c7a1-0a03-4f3d-8c2f-2f9475d173fb"
      },
      "execution_count": 8,
      "outputs": [
        {
          "output_type": "stream",
          "name": "stdout",
          "text": [
            "Requirement already satisfied: spacy[transformers] in /usr/local/lib/python3.7/dist-packages (3.2.1)\n",
            "Requirement already satisfied: typer<0.5.0,>=0.3.0 in /usr/local/lib/python3.7/dist-packages (from spacy[transformers]) (0.4.1)\n",
            "Requirement already satisfied: numpy>=1.15.0 in /usr/local/lib/python3.7/dist-packages (from spacy[transformers]) (1.21.5)\n",
            "Requirement already satisfied: packaging>=20.0 in /usr/local/lib/python3.7/dist-packages (from spacy[transformers]) (21.3)\n",
            "Requirement already satisfied: requests<3.0.0,>=2.13.0 in /usr/local/lib/python3.7/dist-packages (from spacy[transformers]) (2.23.0)\n",
            "Requirement already satisfied: tqdm<5.0.0,>=4.38.0 in /usr/local/lib/python3.7/dist-packages (from spacy[transformers]) (4.63.0)\n",
            "Requirement already satisfied: blis<0.8.0,>=0.4.0 in /usr/local/lib/python3.7/dist-packages (from spacy[transformers]) (0.4.1)\n",
            "Requirement already satisfied: jinja2 in /usr/local/lib/python3.7/dist-packages (from spacy[transformers]) (2.11.3)\n",
            "Requirement already satisfied: murmurhash<1.1.0,>=0.28.0 in /usr/local/lib/python3.7/dist-packages (from spacy[transformers]) (1.0.6)\n",
            "Requirement already satisfied: spacy-legacy<3.1.0,>=3.0.8 in /usr/local/lib/python3.7/dist-packages (from spacy[transformers]) (3.0.9)\n",
            "Requirement already satisfied: cymem<2.1.0,>=2.0.2 in /usr/local/lib/python3.7/dist-packages (from spacy[transformers]) (2.0.6)\n",
            "Requirement already satisfied: catalogue<2.1.0,>=2.0.6 in /usr/local/lib/python3.7/dist-packages (from spacy[transformers]) (2.0.7)\n",
            "Requirement already satisfied: langcodes<4.0.0,>=3.2.0 in /usr/local/lib/python3.7/dist-packages (from spacy[transformers]) (3.3.0)\n",
            "Requirement already satisfied: pathy>=0.3.5 in /usr/local/lib/python3.7/dist-packages (from spacy[transformers]) (0.6.1)\n",
            "Requirement already satisfied: preshed<3.1.0,>=3.0.2 in /usr/local/lib/python3.7/dist-packages (from spacy[transformers]) (3.0.6)\n",
            "Requirement already satisfied: setuptools in /usr/local/lib/python3.7/dist-packages (from spacy[transformers]) (61.3.1)\n",
            "Requirement already satisfied: thinc<8.1.0,>=8.0.12 in /usr/local/lib/python3.7/dist-packages (from spacy[transformers]) (8.0.15)\n",
            "Requirement already satisfied: srsly<3.0.0,>=2.4.1 in /usr/local/lib/python3.7/dist-packages (from spacy[transformers]) (2.4.2)\n",
            "Requirement already satisfied: pydantic!=1.8,!=1.8.1,<1.9.0,>=1.7.4 in /usr/local/lib/python3.7/dist-packages (from spacy[transformers]) (1.8.2)\n",
            "Requirement already satisfied: typing-extensions<4.0.0.0,>=3.7.4 in /usr/local/lib/python3.7/dist-packages (from spacy[transformers]) (3.10.0.2)\n",
            "Requirement already satisfied: wasabi<1.1.0,>=0.8.1 in /usr/local/lib/python3.7/dist-packages (from spacy[transformers]) (0.9.0)\n",
            "Requirement already satisfied: spacy-loggers<2.0.0,>=1.0.0 in /usr/local/lib/python3.7/dist-packages (from spacy[transformers]) (1.0.2)\n",
            "Collecting spacy-transformers<1.2.0,>=1.1.2\n",
            "  Downloading spacy_transformers-1.1.5-py2.py3-none-any.whl (51 kB)\n",
            "\u001b[2K     \u001b[90m━━━━━━━━━━━━━━━━━━━━━━━━━━━━━━━━━━━━━━━━\u001b[0m \u001b[32m51.4/51.4 KB\u001b[0m \u001b[31m5.7 MB/s\u001b[0m eta \u001b[36m0:00:00\u001b[0m\n",
            "\u001b[?25hRequirement already satisfied: zipp>=0.5 in /usr/local/lib/python3.7/dist-packages (from catalogue<2.1.0,>=2.0.6->spacy[transformers]) (3.7.0)\n",
            "Requirement already satisfied: pyparsing!=3.0.5,>=2.0.2 in /usr/local/lib/python3.7/dist-packages (from packaging>=20.0->spacy[transformers]) (3.0.7)\n",
            "Requirement already satisfied: smart-open<6.0.0,>=5.0.0 in /usr/local/lib/python3.7/dist-packages (from pathy>=0.3.5->spacy[transformers]) (5.2.1)\n",
            "Requirement already satisfied: urllib3!=1.25.0,!=1.25.1,<1.26,>=1.21.1 in /usr/local/lib/python3.7/dist-packages (from requests<3.0.0,>=2.13.0->spacy[transformers]) (1.24.3)\n",
            "Requirement already satisfied: certifi>=2017.4.17 in /usr/local/lib/python3.7/dist-packages (from requests<3.0.0,>=2.13.0->spacy[transformers]) (2021.10.8)\n",
            "Requirement already satisfied: idna<3,>=2.5 in /usr/local/lib/python3.7/dist-packages (from requests<3.0.0,>=2.13.0->spacy[transformers]) (2.10)\n",
            "Requirement already satisfied: chardet<4,>=3.0.2 in /usr/local/lib/python3.7/dist-packages (from requests<3.0.0,>=2.13.0->spacy[transformers]) (3.0.4)\n",
            "Requirement already satisfied: torch>=1.6.0 in /usr/local/lib/python3.7/dist-packages (from spacy-transformers<1.2.0,>=1.1.2->spacy[transformers]) (1.10.0+cu111)\n",
            "Collecting transformers<4.18.0,>=3.4.0\n",
            "  Downloading transformers-4.17.0-py3-none-any.whl (3.8 MB)\n",
            "\u001b[2K     \u001b[90m━━━━━━━━━━━━━━━━━━━━━━━━━━━━━━━━━━━━━━━━\u001b[0m \u001b[32m3.8/3.8 MB\u001b[0m \u001b[31m49.4 MB/s\u001b[0m eta \u001b[36m0:00:00\u001b[0m\n",
            "\u001b[?25hCollecting spacy-alignments<1.0.0,>=0.7.2\n",
            "  Downloading spacy_alignments-0.8.4-cp37-cp37m-manylinux_2_17_x86_64.manylinux2014_x86_64.whl (1.1 MB)\n",
            "\u001b[2K     \u001b[90m━━━━━━━━━━━━━━━━━━━━━━━━━━━━━━━━━━━━━━━━\u001b[0m \u001b[32m1.1/1.1 MB\u001b[0m \u001b[31m46.4 MB/s\u001b[0m eta \u001b[36m0:00:00\u001b[0m\n",
            "\u001b[?25hRequirement already satisfied: click<9.0.0,>=7.1.1 in /usr/local/lib/python3.7/dist-packages (from typer<0.5.0,>=0.3.0->spacy[transformers]) (7.1.2)\n",
            "Requirement already satisfied: MarkupSafe>=0.23 in /usr/local/lib/python3.7/dist-packages (from jinja2->spacy[transformers]) (2.0.1)\n",
            "Collecting huggingface-hub<1.0,>=0.1.0\n",
            "  Downloading huggingface_hub-0.4.0-py3-none-any.whl (67 kB)\n",
            "\u001b[2K     \u001b[90m━━━━━━━━━━━━━━━━━━━━━━━━━━━━━━━━━━━━━━━━\u001b[0m \u001b[32m67.0/67.0 KB\u001b[0m \u001b[31m7.2 MB/s\u001b[0m eta \u001b[36m0:00:00\u001b[0m\n",
            "\u001b[?25hRequirement already satisfied: importlib-metadata in /usr/local/lib/python3.7/dist-packages (from transformers<4.18.0,>=3.4.0->spacy-transformers<1.2.0,>=1.1.2->spacy[transformers]) (4.11.3)\n",
            "Collecting sacremoses\n",
            "  Downloading sacremoses-0.0.49-py3-none-any.whl (895 kB)\n",
            "\u001b[2K     \u001b[90m━━━━━━━━━━━━━━━━━━━━━━━━━━━━━━━━━━━━━━\u001b[0m \u001b[32m895.2/895.2 KB\u001b[0m \u001b[31m42.1 MB/s\u001b[0m eta \u001b[36m0:00:00\u001b[0m\n",
            "\u001b[?25hRequirement already satisfied: regex!=2019.12.17 in /usr/local/lib/python3.7/dist-packages (from transformers<4.18.0,>=3.4.0->spacy-transformers<1.2.0,>=1.1.2->spacy[transformers]) (2019.12.20)\n",
            "Collecting tokenizers!=0.11.3,>=0.11.1\n",
            "  Downloading tokenizers-0.11.6-cp37-cp37m-manylinux_2_12_x86_64.manylinux2010_x86_64.whl (6.5 MB)\n",
            "\u001b[2K     \u001b[90m━━━━━━━━━━━━━━━━━━━━━━━━━━━━━━━━━━━━━━━━\u001b[0m \u001b[32m6.5/6.5 MB\u001b[0m \u001b[31m62.0 MB/s\u001b[0m eta \u001b[36m0:00:00\u001b[0m\n",
            "\u001b[?25hRequirement already satisfied: filelock in /usr/local/lib/python3.7/dist-packages (from transformers<4.18.0,>=3.4.0->spacy-transformers<1.2.0,>=1.1.2->spacy[transformers]) (3.6.0)\n",
            "Collecting pyyaml>=5.1\n",
            "  Downloading PyYAML-6.0-cp37-cp37m-manylinux_2_5_x86_64.manylinux1_x86_64.manylinux_2_12_x86_64.manylinux2010_x86_64.whl (596 kB)\n",
            "\u001b[2K     \u001b[90m━━━━━━━━━━━━━━━━━━━━━━━━━━━━━━━━━━━━━━\u001b[0m \u001b[32m596.3/596.3 KB\u001b[0m \u001b[31m39.3 MB/s\u001b[0m eta \u001b[36m0:00:00\u001b[0m\n",
            "\u001b[?25hRequirement already satisfied: joblib in /usr/local/lib/python3.7/dist-packages (from sacremoses->transformers<4.18.0,>=3.4.0->spacy-transformers<1.2.0,>=1.1.2->spacy[transformers]) (1.1.0)\n",
            "Requirement already satisfied: six in /usr/local/lib/python3.7/dist-packages (from sacremoses->transformers<4.18.0,>=3.4.0->spacy-transformers<1.2.0,>=1.1.2->spacy[transformers]) (1.15.0)\n",
            "Installing collected packages: tokenizers, spacy-alignments, sacremoses, pyyaml, huggingface-hub, transformers, spacy-transformers\n",
            "  Attempting uninstall: pyyaml\n",
            "    Found existing installation: PyYAML 3.13\n",
            "    Uninstalling PyYAML-3.13:\n",
            "      Successfully uninstalled PyYAML-3.13\n",
            "Successfully installed huggingface-hub-0.4.0 pyyaml-6.0 sacremoses-0.0.49 spacy-alignments-0.8.4 spacy-transformers-1.1.5 tokenizers-0.11.6 transformers-4.17.0\n",
            "\u001b[33mWARNING: Running pip as the 'root' user can result in broken permissions and conflicting behaviour with the system package manager. It is recommended to use a virtual environment instead: https://pip.pypa.io/warnings/venv\u001b[0m\u001b[33m\n",
            "\u001b[0m"
          ]
        }
      ]
    },
    {
      "cell_type": "markdown",
      "source": [
        "Gerando os dados de config."
      ],
      "metadata": {
        "id": "_14i69Goglt3"
      }
    },
    {
      "cell_type": "code",
      "source": [
        "!python -m spacy init fill-config /content/ner-hcm/dados/base_config.cfg ./config_spacy.cfg"
      ],
      "metadata": {
        "colab": {
          "base_uri": "https://localhost:8080/"
        },
        "id": "rQrqUuGCqj-Y",
        "outputId": "e864debc-428f-425c-bfae-b5208e2c56b0"
      },
      "execution_count": 9,
      "outputs": [
        {
          "output_type": "stream",
          "name": "stdout",
          "text": [
            "\u001b[38;5;2m✔ Auto-filled config with all values\u001b[0m\n",
            "\u001b[38;5;2m✔ Saved config\u001b[0m\n",
            "config_spacy.cfg\n",
            "You can now add your data and train your pipeline:\n",
            "python -m spacy train config_spacy.cfg --paths.train ./train.spacy --paths.dev ./dev.spacy\n"
          ]
        }
      ]
    },
    {
      "cell_type": "code",
      "source": [
        "!python -m spacy train -g 0 /content/config_spacy.cfg --output ./output"
      ],
      "metadata": {
        "colab": {
          "base_uri": "https://localhost:8080/"
        },
        "id": "6G3VQyoTqj4b",
        "outputId": "921a6271-8ce7-4e22-cf10-5b066074c4bd"
      },
      "execution_count": 10,
      "outputs": [
        {
          "output_type": "stream",
          "name": "stdout",
          "text": [
            "\u001b[38;5;2m✔ Created output directory: output\u001b[0m\n",
            "\u001b[38;5;4mℹ Saving to output directory: output\u001b[0m\n",
            "\u001b[38;5;4mℹ Using GPU: 0\u001b[0m\n",
            "\u001b[1m\n",
            "=========================== Initializing pipeline ===========================\u001b[0m\n",
            "[2022-04-02 18:22:48,144] [INFO] Set up nlp object from config\n",
            "[2022-04-02 18:22:48,157] [INFO] Pipeline: ['transformer', 'ner']\n",
            "[2022-04-02 18:22:48,163] [INFO] Created vocabulary\n",
            "[2022-04-02 18:22:48,165] [INFO] Finished initializing nlp object\n",
            "Downloading: 100% 43.0/43.0 [00:00<00:00, 45.3kB/s]\n",
            "Downloading: 100% 647/647 [00:00<00:00, 676kB/s]\n",
            "Downloading: 100% 205k/205k [00:00<00:00, 644kB/s]\n",
            "Downloading: 100% 2.00/2.00 [00:00<00:00, 1.75kB/s]\n",
            "Downloading: 100% 112/112 [00:00<00:00, 97.3kB/s]\n",
            "Downloading: 100% 418M/418M [00:10<00:00, 42.3MB/s]\n",
            "Some weights of the model checkpoint at neuralmind/bert-base-portuguese-cased were not used when initializing BertModel: ['cls.predictions.bias', 'cls.predictions.transform.LayerNorm.weight', 'cls.predictions.transform.dense.bias', 'cls.seq_relationship.weight', 'cls.seq_relationship.bias', 'cls.predictions.transform.dense.weight', 'cls.predictions.decoder.weight', 'cls.predictions.transform.LayerNorm.bias']\n",
            "- This IS expected if you are initializing BertModel from the checkpoint of a model trained on another task or with another architecture (e.g. initializing a BertForSequenceClassification model from a BertForPreTraining model).\n",
            "- This IS NOT expected if you are initializing BertModel from the checkpoint of a model that you expect to be exactly identical (initializing a BertForSequenceClassification model from a BertForSequenceClassification model).\n",
            "[2022-04-02 18:24:16,873] [INFO] Initialized pipeline components: ['transformer', 'ner']\n",
            "\u001b[38;5;2m✔ Initialized pipeline\u001b[0m\n",
            "\u001b[1m\n",
            "============================= Training pipeline =============================\u001b[0m\n",
            "\u001b[38;5;4mℹ Pipeline: ['transformer', 'ner']\u001b[0m\n",
            "\u001b[38;5;4mℹ Initial learn rate: 0.0\u001b[0m\n",
            "E    #       LOSS TRANS...  LOSS NER  ENTS_F  ENTS_P  ENTS_R  SCORE \n",
            "---  ------  -------------  --------  ------  ------  ------  ------\n",
            "  0       0        1390.27   1963.60    6.15    3.47   27.03    0.06\n",
            " 25     200      420984.33  59898.86  100.00  100.00  100.00    1.00\n",
            " 50     400           0.00      0.00  100.00  100.00  100.00    1.00\n",
            "^C\n"
          ]
        }
      ]
    },
    {
      "cell_type": "markdown",
      "source": [
        "Testando o modelo."
      ],
      "metadata": {
        "id": "1BedaapWkKcT"
      }
    },
    {
      "cell_type": "code",
      "source": [
        "import spacy\n",
        "nlp = spacy.load(\"/content/output/model-best\")\n",
        "\n",
        "text = [\n",
        "'''Abilify indicado como terapia para o tratamento agudo de episódios  associados ao transtorno bipolar do tipo I. O mecanismo de ação do aripiprazol, como ocorre com outras drogas eficazes no tratamento de esquizofrenia e transtorno bipolar, com\n",
        "Confilify desconhecido. No entanto, foi proposto que a eficácia do Sensaz de principio ativo aripiprazol é mediada por efeitos em receptores no sistema nervoso central. A atividade de Abilify principalmente devida à droga inalterada, aripiprazol, e em menor medida ao seu metabólito principal, dehidro-aripiprazol. sendo o Aripiprazol  Kavium Aipri Harip e Toarip.''']\n",
        "\n",
        "for doc in nlp.pipe(text, disable=[\"tagger\", \"parser\"]):\n",
        "    print([(ent.text, ent.label_) for ent in doc.ents])"
      ],
      "metadata": {
        "colab": {
          "base_uri": "https://localhost:8080/"
        },
        "id": "ZsEMVxMQ2HVi",
        "outputId": "019ce131-0664-490e-fd54-83feb1c18007"
      },
      "execution_count": 11,
      "outputs": [
        {
          "output_type": "stream",
          "name": "stdout",
          "text": [
            "[('Abilify', 'MED-REF'), ('aripiprazol', 'P-ATIVO'), ('Confilify', 'MED-SIMILAR'), ('Sensaz', 'P-ATIVO'), ('aripiprazol', 'P-ATIVO'), ('Abilify', 'MED-REF'), ('inalterada', 'P-ATIVO'), ('aripiprazol', 'P-ATIVO'), ('metabólito', 'P-ATIVO'), ('dehidro-aripiprazol', 'P-ATIVO'), ('Aripiprazol', 'P-ATIVO'), ('Kavium', 'P-ATIVO'), ('Aipri', 'MED-SIMILAR'), ('Harip', 'MED-SIMILAR'), ('e', 'MED-SIMILAR'), ('Toarip', 'MED-SIMILAR')]\n"
          ]
        }
      ]
    },
    {
      "cell_type": "code",
      "source": [
        "spacy.displacy.render(doc, style=\"ent\", jupyter=True) # display"
      ],
      "metadata": {
        "colab": {
          "base_uri": "https://localhost:8080/",
          "height": 297
        },
        "id": "R-gR0YaH2Gzr",
        "outputId": "a761717d-7e7d-4c8e-aeb6-1accce7585f8"
      },
      "execution_count": 12,
      "outputs": [
        {
          "output_type": "display_data",
          "data": {
            "text/plain": [
              "<IPython.core.display.HTML object>"
            ],
            "text/html": [
              "<span class=\"tex2jax_ignore\"><div class=\"entities\" style=\"line-height: 2.5; direction: ltr\">\n",
              "<mark class=\"entity\" style=\"background: #ddd; padding: 0.45em 0.6em; margin: 0 0.25em; line-height: 1; border-radius: 0.35em;\">\n",
              "    Abilify\n",
              "    <span style=\"font-size: 0.8em; font-weight: bold; line-height: 1; border-radius: 0.35em; vertical-align: middle; margin-left: 0.5rem\">MED-REF</span>\n",
              "</mark>\n",
              " indicado como terapia para o tratamento agudo de episódios  associados ao transtorno bipolar do tipo I. O mecanismo de ação do \n",
              "<mark class=\"entity\" style=\"background: #ddd; padding: 0.45em 0.6em; margin: 0 0.25em; line-height: 1; border-radius: 0.35em;\">\n",
              "    aripiprazol\n",
              "    <span style=\"font-size: 0.8em; font-weight: bold; line-height: 1; border-radius: 0.35em; vertical-align: middle; margin-left: 0.5rem\">P-ATIVO</span>\n",
              "</mark>\n",
              ", como ocorre com outras drogas eficazes no tratamento de esquizofrenia e transtorno bipolar, com</br>\n",
              "<mark class=\"entity\" style=\"background: #ddd; padding: 0.45em 0.6em; margin: 0 0.25em; line-height: 1; border-radius: 0.35em;\">\n",
              "    Confilify\n",
              "    <span style=\"font-size: 0.8em; font-weight: bold; line-height: 1; border-radius: 0.35em; vertical-align: middle; margin-left: 0.5rem\">MED-SIMILAR</span>\n",
              "</mark>\n",
              " desconhecido. No entanto, foi proposto que a eficácia do \n",
              "<mark class=\"entity\" style=\"background: #ddd; padding: 0.45em 0.6em; margin: 0 0.25em; line-height: 1; border-radius: 0.35em;\">\n",
              "    Sensaz\n",
              "    <span style=\"font-size: 0.8em; font-weight: bold; line-height: 1; border-radius: 0.35em; vertical-align: middle; margin-left: 0.5rem\">P-ATIVO</span>\n",
              "</mark>\n",
              " de principio ativo \n",
              "<mark class=\"entity\" style=\"background: #ddd; padding: 0.45em 0.6em; margin: 0 0.25em; line-height: 1; border-radius: 0.35em;\">\n",
              "    aripiprazol\n",
              "    <span style=\"font-size: 0.8em; font-weight: bold; line-height: 1; border-radius: 0.35em; vertical-align: middle; margin-left: 0.5rem\">P-ATIVO</span>\n",
              "</mark>\n",
              " é mediada por efeitos em receptores no sistema nervoso central. A atividade de \n",
              "<mark class=\"entity\" style=\"background: #ddd; padding: 0.45em 0.6em; margin: 0 0.25em; line-height: 1; border-radius: 0.35em;\">\n",
              "    Abilify\n",
              "    <span style=\"font-size: 0.8em; font-weight: bold; line-height: 1; border-radius: 0.35em; vertical-align: middle; margin-left: 0.5rem\">MED-REF</span>\n",
              "</mark>\n",
              " principalmente devida à droga \n",
              "<mark class=\"entity\" style=\"background: #ddd; padding: 0.45em 0.6em; margin: 0 0.25em; line-height: 1; border-radius: 0.35em;\">\n",
              "    inalterada\n",
              "    <span style=\"font-size: 0.8em; font-weight: bold; line-height: 1; border-radius: 0.35em; vertical-align: middle; margin-left: 0.5rem\">P-ATIVO</span>\n",
              "</mark>\n",
              ", \n",
              "<mark class=\"entity\" style=\"background: #ddd; padding: 0.45em 0.6em; margin: 0 0.25em; line-height: 1; border-radius: 0.35em;\">\n",
              "    aripiprazol\n",
              "    <span style=\"font-size: 0.8em; font-weight: bold; line-height: 1; border-radius: 0.35em; vertical-align: middle; margin-left: 0.5rem\">P-ATIVO</span>\n",
              "</mark>\n",
              ", e em menor medida ao seu \n",
              "<mark class=\"entity\" style=\"background: #ddd; padding: 0.45em 0.6em; margin: 0 0.25em; line-height: 1; border-radius: 0.35em;\">\n",
              "    metabólito\n",
              "    <span style=\"font-size: 0.8em; font-weight: bold; line-height: 1; border-radius: 0.35em; vertical-align: middle; margin-left: 0.5rem\">P-ATIVO</span>\n",
              "</mark>\n",
              " principal, \n",
              "<mark class=\"entity\" style=\"background: #ddd; padding: 0.45em 0.6em; margin: 0 0.25em; line-height: 1; border-radius: 0.35em;\">\n",
              "    dehidro-aripiprazol\n",
              "    <span style=\"font-size: 0.8em; font-weight: bold; line-height: 1; border-radius: 0.35em; vertical-align: middle; margin-left: 0.5rem\">P-ATIVO</span>\n",
              "</mark>\n",
              ". sendo o \n",
              "<mark class=\"entity\" style=\"background: #ddd; padding: 0.45em 0.6em; margin: 0 0.25em; line-height: 1; border-radius: 0.35em;\">\n",
              "    Aripiprazol\n",
              "    <span style=\"font-size: 0.8em; font-weight: bold; line-height: 1; border-radius: 0.35em; vertical-align: middle; margin-left: 0.5rem\">P-ATIVO</span>\n",
              "</mark>\n",
              "  \n",
              "<mark class=\"entity\" style=\"background: #ddd; padding: 0.45em 0.6em; margin: 0 0.25em; line-height: 1; border-radius: 0.35em;\">\n",
              "    Kavium\n",
              "    <span style=\"font-size: 0.8em; font-weight: bold; line-height: 1; border-radius: 0.35em; vertical-align: middle; margin-left: 0.5rem\">P-ATIVO</span>\n",
              "</mark>\n",
              " \n",
              "<mark class=\"entity\" style=\"background: #ddd; padding: 0.45em 0.6em; margin: 0 0.25em; line-height: 1; border-radius: 0.35em;\">\n",
              "    Aipri\n",
              "    <span style=\"font-size: 0.8em; font-weight: bold; line-height: 1; border-radius: 0.35em; vertical-align: middle; margin-left: 0.5rem\">MED-SIMILAR</span>\n",
              "</mark>\n",
              " \n",
              "<mark class=\"entity\" style=\"background: #ddd; padding: 0.45em 0.6em; margin: 0 0.25em; line-height: 1; border-radius: 0.35em;\">\n",
              "    Harip\n",
              "    <span style=\"font-size: 0.8em; font-weight: bold; line-height: 1; border-radius: 0.35em; vertical-align: middle; margin-left: 0.5rem\">MED-SIMILAR</span>\n",
              "</mark>\n",
              " \n",
              "<mark class=\"entity\" style=\"background: #ddd; padding: 0.45em 0.6em; margin: 0 0.25em; line-height: 1; border-radius: 0.35em;\">\n",
              "    e\n",
              "    <span style=\"font-size: 0.8em; font-weight: bold; line-height: 1; border-radius: 0.35em; vertical-align: middle; margin-left: 0.5rem\">MED-SIMILAR</span>\n",
              "</mark>\n",
              " \n",
              "<mark class=\"entity\" style=\"background: #ddd; padding: 0.45em 0.6em; margin: 0 0.25em; line-height: 1; border-radius: 0.35em;\">\n",
              "    Toarip\n",
              "    <span style=\"font-size: 0.8em; font-weight: bold; line-height: 1; border-radius: 0.35em; vertical-align: middle; margin-left: 0.5rem\">MED-SIMILAR</span>\n",
              "</mark>\n",
              ".</div></span>"
            ]
          },
          "metadata": {}
        }
      ]
    },
    {
      "cell_type": "markdown",
      "source": [
        "## Treinar NER e Relacionamentos de Entidades"
      ],
      "metadata": {
        "id": "jwDl7mdT4HH8"
      }
    },
    {
      "cell_type": "code",
      "source": [
        "%cd /content/ner-hcm/rel_component"
      ],
      "metadata": {
        "colab": {
          "base_uri": "https://localhost:8080/"
        },
        "id": "1RVu5xXr5lk0",
        "outputId": "6ebe3f6d-32f7-4716-ee75-06ac6cb6766a"
      },
      "execution_count": 13,
      "outputs": [
        {
          "output_type": "stream",
          "name": "stdout",
          "text": [
            "/content/ner-hcm/rel_component\n"
          ]
        }
      ]
    },
    {
      "cell_type": "markdown",
      "source": [
        "Treinando relacionamentos de entidades."
      ],
      "metadata": {
        "id": "FkbuCmU-lpuW"
      }
    },
    {
      "cell_type": "code",
      "source": [
        "!spacy project run train_gpu # treinar transformers de train\n",
        "!spacy project run evaluate # avaliar no conjunto de dados de test"
      ],
      "metadata": {
        "colab": {
          "base_uri": "https://localhost:8080/"
        },
        "id": "UCqwmIls7Hpb",
        "outputId": "d37f6475-1b84-4c38-dbb2-47840dc94d4c"
      },
      "execution_count": 14,
      "outputs": [
        {
          "output_type": "stream",
          "name": "stdout",
          "text": [
            "\u001b[1m\n",
            "================================= train_gpu =================================\u001b[0m\n",
            "Running command: /usr/bin/python3 -m spacy train configs/rel_trf.cfg --output training --paths.train /content/drive/MyDrive/rel_component/data/med_train.spacy --paths.dev /content/drive/MyDrive/rel_component/data/med_dev.spacy -c ./scripts/custom_functions.py --gpu-id 0\n",
            "\u001b[38;5;4mℹ Saving to output directory: training\u001b[0m\n",
            "\u001b[38;5;4mℹ Using GPU: 0\u001b[0m\n",
            "\u001b[1m\n",
            "=========================== Initializing pipeline ===========================\u001b[0m\n",
            "[2022-04-02 18:43:49,233] [INFO] Set up nlp object from config\n",
            "[2022-04-02 18:43:49,246] [INFO] Pipeline: ['transformer', 'sentencizer', 'relation_extractor']\n",
            "[2022-04-02 18:43:49,251] [INFO] Created vocabulary\n",
            "[2022-04-02 18:43:49,253] [INFO] Finished initializing nlp object\n",
            "Downloading: 100% 481/481 [00:00<00:00, 439kB/s]\n",
            "Downloading: 100% 878k/878k [00:00<00:00, 1.83MB/s]\n",
            "Downloading: 100% 446k/446k [00:00<00:00, 1.13MB/s]\n",
            "Downloading: 100% 1.29M/1.29M [00:00<00:00, 2.73MB/s]\n",
            "Downloading: 100% 478M/478M [00:11<00:00, 43.3MB/s]\n",
            "Some weights of the model checkpoint at roberta-base were not used when initializing RobertaModel: ['lm_head.layer_norm.bias', 'lm_head.decoder.weight', 'lm_head.dense.bias', 'lm_head.dense.weight', 'lm_head.bias', 'lm_head.layer_norm.weight']\n",
            "- This IS expected if you are initializing RobertaModel from the checkpoint of a model trained on another task or with another architecture (e.g. initializing a BertForSequenceClassification model from a BertForPreTraining model).\n",
            "- This IS NOT expected if you are initializing RobertaModel from the checkpoint of a model that you expect to be exactly identical (initializing a BertForSequenceClassification model from a BertForSequenceClassification model).\n",
            "[2022-04-02 18:44:14,206] [INFO] Initialized pipeline components: ['transformer', 'sentencizer', 'relation_extractor']\n",
            "\u001b[38;5;2m✔ Initialized pipeline\u001b[0m\n",
            "\u001b[1m\n",
            "============================= Training pipeline =============================\u001b[0m\n",
            "\u001b[38;5;4mℹ Pipeline: ['transformer', 'sentencizer', 'relation_extractor']\u001b[0m\n",
            "\u001b[38;5;4mℹ Set annotations on update for: ['sentencizer', 'ner']\u001b[0m\n",
            "\u001b[38;5;4mℹ Initial learn rate: 0.0\u001b[0m\n",
            "E    #       LOSS TRANS...  LOSS RELAT...  SENTS_F  SENTS_P  SENTS_R  REL_MICRO_P  REL_MICRO_R  REL_MICRO_F  SCORE \n",
            "---  ------  -------------  -------------  -------  -------  -------  -----------  -----------  -----------  ------\n",
            "  0       0           0.20           0.68     0.00     0.00     0.00        24.33       100.00        39.14    0.20\n",
            " 50     100           6.99          16.08     0.00     0.00     0.00        96.00        98.63        97.30    0.49\n",
            "100     200           0.08           0.80     0.00     0.00     0.00        97.30        98.63        97.96    0.49\n",
            "\n",
            "Aborted!\n",
            "\u001b[1m\n",
            "================================== evaluate ==================================\u001b[0m\n",
            "Running command: /usr/bin/python3 ./scripts/evaluate.py training/model-best /content/drive/MyDrive/rel_component/data/med_test.spacy False\n",
            "\u001b[38;5;4mℹ Could not determine any instances in doc - returning doc as is.\u001b[0m\n",
            "\n",
            "Random baseline:\n",
            "threshold 0.00 \t {'rel_micro_p': '25.00', 'rel_micro_r': '100.00', 'rel_micro_f': '40.00'}\n",
            "threshold 0.05 \t {'rel_micro_p': '25.49', 'rel_micro_r': '98.01', 'rel_micro_f': '40.45'}\n",
            "threshold 0.10 \t {'rel_micro_p': '25.07', 'rel_micro_r': '92.04', 'rel_micro_f': '39.40'}\n",
            "threshold 0.20 \t {'rel_micro_p': '25.68', 'rel_micro_r': '85.07', 'rel_micro_f': '39.45'}\n",
            "threshold 0.30 \t {'rel_micro_p': '25.60', 'rel_micro_r': '74.13', 'rel_micro_f': '38.06'}\n",
            "threshold 0.40 \t {'rel_micro_p': '24.65', 'rel_micro_r': '61.69', 'rel_micro_f': '35.23'}\n",
            "threshold 0.50 \t {'rel_micro_p': '25.06', 'rel_micro_r': '52.24', 'rel_micro_f': '33.87'}\n",
            "threshold 0.60 \t {'rel_micro_p': '26.20', 'rel_micro_r': '46.27', 'rel_micro_f': '33.45'}\n",
            "threshold 0.70 \t {'rel_micro_p': '25.19', 'rel_micro_r': '33.33', 'rel_micro_f': '28.69'}\n",
            "threshold 0.80 \t {'rel_micro_p': '26.49', 'rel_micro_r': '24.38', 'rel_micro_f': '25.39'}\n",
            "threshold 0.90 \t {'rel_micro_p': '26.67', 'rel_micro_r': '13.93', 'rel_micro_f': '18.30'}\n",
            "threshold 0.99 \t {'rel_micro_p': '28.57', 'rel_micro_r': '1.00', 'rel_micro_f': '1.92'}\n",
            "threshold 1.00 \t {'rel_micro_p': '0.00', 'rel_micro_r': '0.00', 'rel_micro_f': '0.00'}\n",
            "\n",
            "Results of the trained model:\n",
            "threshold 0.00 \t {'rel_micro_p': '25.00', 'rel_micro_r': '100.00', 'rel_micro_f': '40.00'}\n",
            "threshold 0.05 \t {'rel_micro_p': '99.50', 'rel_micro_r': '99.00', 'rel_micro_f': '99.25'}\n",
            "threshold 0.10 \t {'rel_micro_p': '99.50', 'rel_micro_r': '99.00', 'rel_micro_f': '99.25'}\n",
            "threshold 0.20 \t {'rel_micro_p': '99.50', 'rel_micro_r': '99.00', 'rel_micro_f': '99.25'}\n",
            "threshold 0.30 \t {'rel_micro_p': '99.50', 'rel_micro_r': '99.00', 'rel_micro_f': '99.25'}\n",
            "threshold 0.40 \t {'rel_micro_p': '100.00', 'rel_micro_r': '99.00', 'rel_micro_f': '99.50'}\n",
            "threshold 0.50 \t {'rel_micro_p': '100.00', 'rel_micro_r': '99.00', 'rel_micro_f': '99.50'}\n",
            "threshold 0.60 \t {'rel_micro_p': '100.00', 'rel_micro_r': '99.00', 'rel_micro_f': '99.50'}\n",
            "threshold 0.70 \t {'rel_micro_p': '100.00', 'rel_micro_r': '99.00', 'rel_micro_f': '99.50'}\n",
            "threshold 0.80 \t {'rel_micro_p': '100.00', 'rel_micro_r': '99.00', 'rel_micro_f': '99.50'}\n",
            "threshold 0.90 \t {'rel_micro_p': '100.00', 'rel_micro_r': '99.00', 'rel_micro_f': '99.50'}\n",
            "threshold 0.99 \t {'rel_micro_p': '100.00', 'rel_micro_r': '98.51', 'rel_micro_f': '99.25'}\n",
            "threshold 1.00 \t {'rel_micro_p': '100.00', 'rel_micro_r': '54.73', 'rel_micro_f': '70.74'}\n"
          ]
        }
      ]
    },
    {
      "cell_type": "markdown",
      "source": [
        "Chamando novamente o teste do modelo NER"
      ],
      "metadata": {
        "id": "1akA3LYcmtvz"
      }
    },
    {
      "cell_type": "code",
      "source": [
        "import spacy\n",
        "nlp = spacy.load(\"/content/output/model-best\")\n",
        "\n",
        "text = [\n",
        "'''Abilify indicado como terapia para o tratamento agudo de episódios  associados ao transtorno bipolar do tipo I. O mecanismo de ação do aripiprazol, como ocorre com outras drogas eficazes no tratamento de esquizofrenia e transtorno bipolar, com\n",
        "Confilify desconhecido. No entanto, foi proposto que a eficácia do Sensaz de principio ativo aripiprazol é mediada por efeitos em receptores no sistema nervoso central. A atividade de Abilify principalmente devida à droga, aripiprazol, e em menor medida ao seu metabólito principal, dehidro-aripiprazol. Sendo o Aripiprazol Kavium Aipri Harip Toarip.''']\n",
        "\n",
        "for doc in nlp.pipe(text, disable=[\"tagger\", \"parser\"]):\n",
        "    print([(ent.text, ent.label_) for ent in doc.ents])"
      ],
      "metadata": {
        "colab": {
          "base_uri": "https://localhost:8080/"
        },
        "id": "dgLtOWKGJ-3i",
        "outputId": "431a5fe6-3a29-41fb-ff56-b0baeb90c554"
      },
      "execution_count": 21,
      "outputs": [
        {
          "output_type": "stream",
          "name": "stdout",
          "text": [
            "[('Abilify', 'MED-REF'), ('aripiprazol', 'P-ATIVO'), ('esquizofrenia', 'MED-SIMILAR'), ('Confilify', 'MED-SIMILAR'), ('Sensaz', 'P-ATIVO'), ('aripiprazol', 'P-ATIVO'), ('Abilify', 'MED-REF'), ('aripiprazol', 'P-ATIVO'), ('menor', 'QUANT'), ('metabólito', 'P-ATIVO'), ('dehidro-aripiprazol', 'P-ATIVO'), ('Aripiprazol', 'P-ATIVO'), ('Kavium', 'P-ATIVO'), ('Aipri', 'P-ATIVO'), ('Harip', 'MED-SIMILAR'), ('Toarip', 'MED-SIMILAR')]\n"
          ]
        }
      ]
    },
    {
      "cell_type": "markdown",
      "source": [
        "Transferindo para a pasta raiz o rel_model.py e o rel_pipe.py"
      ],
      "metadata": {
        "id": "nId0bjeCm7fh"
      }
    },
    {
      "cell_type": "code",
      "source": [
        "!mv /content/ner-hcm/rel_model.py /content/ner-hcm/rel_pipe.py /content"
      ],
      "metadata": {
        "id": "-7IPH9gTlnQ6"
      },
      "execution_count": 16,
      "outputs": []
    },
    {
      "cell_type": "markdown",
      "source": [
        "Testando o modelo de relacionamentos de entidades e fazendo as previsões do relacionamento."
      ],
      "metadata": {
        "id": "3IckguPLnIvm"
      }
    },
    {
      "cell_type": "code",
      "source": [
        "import random\n",
        "import typer\n",
        "from pathlib import Path\n",
        "import spacy\n",
        "from spacy.tokens import DocBin, Doc\n",
        "from spacy.training.example import Example\n",
        "from rel_pipe import make_relation_extractor, score_relations\n",
        "from rel_model import create_relation_model, create_classification_layer, create_instances, create_tensors\n",
        "\n",
        "# We load the relation extraction (REL) model\n",
        "nlp2 = spacy.load(\"/content/ner-hcm/rel_component/training/model-best\")\n",
        "\n",
        "# We take the entities generated from the NER pipeline and input them to the REL pipeline\n",
        "for name, proc in nlp2.pipeline:\n",
        "  doc = proc(doc)\n",
        "# Here, we split the paragraph into sentences and apply the relation extraction for each pair of entities found in each sentence.\n",
        "for value, rel_dict in doc._.rel.items():\n",
        "  for sent in doc.sents:\n",
        "    for e in sent.ents:\n",
        "      for b in sent.ents:\n",
        "        if e.start == value[0] and b.start == value[1]:\n",
        "          if rel_dict['MED_REFERENCIA_DE'] >=0.9 : \n",
        "            print(f\" entities: {e.text, b.text} --> predicted relation: {rel_dict}\")\n",
        "          if rel_dict['P_ATIVO_DE'] >=0.9 : \n",
        "            print(f\" entities: {e.text, b.text} --> predicted relation: {rel_dict}\")"
      ],
      "metadata": {
        "colab": {
          "base_uri": "https://localhost:8080/"
        },
        "id": "U4YVIoPi9vhF",
        "outputId": "97de6b23-8e68-4164-dd49-a2b36ebba4a6"
      },
      "execution_count": 22,
      "outputs": [
        {
          "output_type": "stream",
          "name": "stdout",
          "text": [
            " entities: ('aripiprazol', 'Confilify') --> predicted relation: {'MED_REFERENCIA_DE': 0.008377582, 'P_ATIVO_DE': 0.92034817}\n",
            " entities: ('Abilify', 'menor') --> predicted relation: {'MED_REFERENCIA_DE': 0.9880387, 'P_ATIVO_DE': 0.0005574607}\n",
            " entities: ('Abilify', 'metabólito') --> predicted relation: {'MED_REFERENCIA_DE': 0.9099193, 'P_ATIVO_DE': 0.00023616487}\n",
            " entities: ('Aripiprazol', 'Kavium') --> predicted relation: {'MED_REFERENCIA_DE': 0.004363565, 'P_ATIVO_DE': 0.9328082}\n",
            " entities: ('Aripiprazol', 'Aipri') --> predicted relation: {'MED_REFERENCIA_DE': 0.0049554924, 'P_ATIVO_DE': 0.91712725}\n",
            " entities: ('Aripiprazol', 'Harip') --> predicted relation: {'MED_REFERENCIA_DE': 0.0092204325, 'P_ATIVO_DE': 0.9033337}\n"
          ]
        }
      ]
    },
    {
      "cell_type": "markdown",
      "source": [
        "Fazendo as previsões e salvando em dataset a sentença e as entidades."
      ],
      "metadata": {
        "id": "iz3EVPxWtwc8"
      }
    },
    {
      "cell_type": "code",
      "source": [
        "import random\n",
        "import typer\n",
        "from pathlib import Path\n",
        "import spacy\n",
        "from spacy import displacy\n",
        "from spacy.tokens import DocBin, Doc\n",
        "from spacy.training.example import Example\n",
        "from rel_pipe import make_relation_extractor, score_relations\n",
        "from rel_model import create_relation_model, create_classification_layer, create_instances, create_tensors\n",
        "# We load the relation extraction (REL) model\n",
        "nlp2 = spacy.load(\"/content/ner-hcm/rel_component/training/model-best\")"
      ],
      "metadata": {
        "id": "Aai7Pm8dLj7l"
      },
      "execution_count": 23,
      "outputs": []
    },
    {
      "cell_type": "code",
      "source": [
        "import pandas as pd\n",
        "text = \"\"\"Abilify 10mg com 30 comprimidosindicado como terapia adjuntiva ao lítio ou valproato para o tratamento agudo de episódios de mania ou mistos associados ao transtorno bipolar do tipo I. O mecanismo de ação do aripiprazol, como ocorre com outras drogas eficazes no tratamento de transtorno bipolar, com\n",
        "Confilify desconhecido. No entanto, foi proposto que a eficácia do Sensaz, de principio ativo aripiprazol é mediada por efeitos em receptores no sistema nervoso central. A atividade de Abilify principalmente devida à droga, aripiprazol em menor medida ao seu metabólito principal, dehidro-aripiprazol. sendo o Aripiprazol o agente ativo do Kavium, e do Aipri bem com,do Harip e Toarip de com agente Aripiprazol.\"\"\"\n",
        "columns = {}\n",
        "entities = []\n",
        "labels = []\n",
        "sentences=text\n",
        "for token in doc.ents:\n",
        "  print(token,token.label_)\n",
        "  entities.append(token.text)\n",
        "  labels.append(token.label_)\n",
        "columns[\"Sentence\"] =text  \n",
        "columns[\"Entities\"]= entities\n",
        "columns[\"labels\"] = labels\n",
        "displacy.render(doc, style='ent', jupyter=True,)\n",
        "dataframe = pd.DataFrame(columns)\n",
        "\n",
        "for value, rel_dict in doc._.rel.items():\n",
        "  for sent in doc.sents:\n",
        "    for e in sent.ents:\n",
        "      for b in sent.ents:\n",
        "        if e.start == value[0] and b.start == value[1]:\n",
        "          if rel_dict['MED_REFERENCIA_DE']>=0.20:\n",
        "            print(f\" entities: {e.text, b.text} --> predicted relation: (MED_REFERENCIA_DE-{rel_dict['MED_REFERENCIA_DE']}) ---> predicted entity: {e.label_,b.label_}\")\n",
        "          if rel_dict['P_ATIVO_DE']>=0.20 :\n",
        "            print(f\" entities: {e.text, b.text} --> predicted relation:(P_ATIVO_DE-{rel_dict['P_ATIVO_DE']}) ---> predicted entity: {e.label_,b.label_}\")\n",
        "                \n",
        "print(\"\\n\")\n",
        "dataframe.groupby(\"Sentence\").apply(lambda x : x[:]).drop(\"Sentence\",axis=1)                  "
      ],
      "metadata": {
        "colab": {
          "base_uri": "https://localhost:8080/",
          "height": 1000
        },
        "id": "HvrQuE6tCpfV",
        "outputId": "5a80733c-9a96-4fbe-f947-bc051bef07aa"
      },
      "execution_count": 24,
      "outputs": [
        {
          "output_type": "stream",
          "name": "stdout",
          "text": [
            "Abilify MED-REF\n",
            "aripiprazol P-ATIVO\n",
            "esquizofrenia MED-SIMILAR\n",
            "Confilify MED-SIMILAR\n",
            "Sensaz P-ATIVO\n",
            "aripiprazol P-ATIVO\n",
            "Abilify MED-REF\n",
            "aripiprazol P-ATIVO\n",
            "menor QUANT\n",
            "metabólito P-ATIVO\n",
            "dehidro-aripiprazol P-ATIVO\n",
            "Aripiprazol P-ATIVO\n",
            "Kavium P-ATIVO\n",
            "Aipri P-ATIVO\n",
            "Harip MED-SIMILAR\n",
            "Toarip MED-SIMILAR\n"
          ]
        },
        {
          "output_type": "display_data",
          "data": {
            "text/plain": [
              "<IPython.core.display.HTML object>"
            ],
            "text/html": [
              "<span class=\"tex2jax_ignore\"><div class=\"entities\" style=\"line-height: 2.5; direction: ltr\">\n",
              "<mark class=\"entity\" style=\"background: #ddd; padding: 0.45em 0.6em; margin: 0 0.25em; line-height: 1; border-radius: 0.35em;\">\n",
              "    Abilify\n",
              "    <span style=\"font-size: 0.8em; font-weight: bold; line-height: 1; border-radius: 0.35em; vertical-align: middle; margin-left: 0.5rem\">MED-REF</span>\n",
              "</mark>\n",
              " indicado como terapia para o tratamento agudo de episódios  associados ao transtorno bipolar do tipo I. O mecanismo de ação do \n",
              "<mark class=\"entity\" style=\"background: #ddd; padding: 0.45em 0.6em; margin: 0 0.25em; line-height: 1; border-radius: 0.35em;\">\n",
              "    aripiprazol\n",
              "    <span style=\"font-size: 0.8em; font-weight: bold; line-height: 1; border-radius: 0.35em; vertical-align: middle; margin-left: 0.5rem\">P-ATIVO</span>\n",
              "</mark>\n",
              ", como ocorre com outras drogas eficazes no tratamento de \n",
              "<mark class=\"entity\" style=\"background: #ddd; padding: 0.45em 0.6em; margin: 0 0.25em; line-height: 1; border-radius: 0.35em;\">\n",
              "    esquizofrenia\n",
              "    <span style=\"font-size: 0.8em; font-weight: bold; line-height: 1; border-radius: 0.35em; vertical-align: middle; margin-left: 0.5rem\">MED-SIMILAR</span>\n",
              "</mark>\n",
              " e transtorno bipolar, com</br>\n",
              "<mark class=\"entity\" style=\"background: #ddd; padding: 0.45em 0.6em; margin: 0 0.25em; line-height: 1; border-radius: 0.35em;\">\n",
              "    Confilify\n",
              "    <span style=\"font-size: 0.8em; font-weight: bold; line-height: 1; border-radius: 0.35em; vertical-align: middle; margin-left: 0.5rem\">MED-SIMILAR</span>\n",
              "</mark>\n",
              " desconhecido. No entanto, foi proposto que a eficácia do \n",
              "<mark class=\"entity\" style=\"background: #ddd; padding: 0.45em 0.6em; margin: 0 0.25em; line-height: 1; border-radius: 0.35em;\">\n",
              "    Sensaz\n",
              "    <span style=\"font-size: 0.8em; font-weight: bold; line-height: 1; border-radius: 0.35em; vertical-align: middle; margin-left: 0.5rem\">P-ATIVO</span>\n",
              "</mark>\n",
              " de principio ativo \n",
              "<mark class=\"entity\" style=\"background: #ddd; padding: 0.45em 0.6em; margin: 0 0.25em; line-height: 1; border-radius: 0.35em;\">\n",
              "    aripiprazol\n",
              "    <span style=\"font-size: 0.8em; font-weight: bold; line-height: 1; border-radius: 0.35em; vertical-align: middle; margin-left: 0.5rem\">P-ATIVO</span>\n",
              "</mark>\n",
              " é mediada por efeitos em receptores no sistema nervoso central. A atividade de \n",
              "<mark class=\"entity\" style=\"background: #ddd; padding: 0.45em 0.6em; margin: 0 0.25em; line-height: 1; border-radius: 0.35em;\">\n",
              "    Abilify\n",
              "    <span style=\"font-size: 0.8em; font-weight: bold; line-height: 1; border-radius: 0.35em; vertical-align: middle; margin-left: 0.5rem\">MED-REF</span>\n",
              "</mark>\n",
              " principalmente devida à droga, \n",
              "<mark class=\"entity\" style=\"background: #ddd; padding: 0.45em 0.6em; margin: 0 0.25em; line-height: 1; border-radius: 0.35em;\">\n",
              "    aripiprazol\n",
              "    <span style=\"font-size: 0.8em; font-weight: bold; line-height: 1; border-radius: 0.35em; vertical-align: middle; margin-left: 0.5rem\">P-ATIVO</span>\n",
              "</mark>\n",
              ", e em \n",
              "<mark class=\"entity\" style=\"background: #ddd; padding: 0.45em 0.6em; margin: 0 0.25em; line-height: 1; border-radius: 0.35em;\">\n",
              "    menor\n",
              "    <span style=\"font-size: 0.8em; font-weight: bold; line-height: 1; border-radius: 0.35em; vertical-align: middle; margin-left: 0.5rem\">QUANT</span>\n",
              "</mark>\n",
              " medida ao seu \n",
              "<mark class=\"entity\" style=\"background: #ddd; padding: 0.45em 0.6em; margin: 0 0.25em; line-height: 1; border-radius: 0.35em;\">\n",
              "    metabólito\n",
              "    <span style=\"font-size: 0.8em; font-weight: bold; line-height: 1; border-radius: 0.35em; vertical-align: middle; margin-left: 0.5rem\">P-ATIVO</span>\n",
              "</mark>\n",
              " principal, \n",
              "<mark class=\"entity\" style=\"background: #ddd; padding: 0.45em 0.6em; margin: 0 0.25em; line-height: 1; border-radius: 0.35em;\">\n",
              "    dehidro-aripiprazol\n",
              "    <span style=\"font-size: 0.8em; font-weight: bold; line-height: 1; border-radius: 0.35em; vertical-align: middle; margin-left: 0.5rem\">P-ATIVO</span>\n",
              "</mark>\n",
              ". Sendo o \n",
              "<mark class=\"entity\" style=\"background: #ddd; padding: 0.45em 0.6em; margin: 0 0.25em; line-height: 1; border-radius: 0.35em;\">\n",
              "    Aripiprazol\n",
              "    <span style=\"font-size: 0.8em; font-weight: bold; line-height: 1; border-radius: 0.35em; vertical-align: middle; margin-left: 0.5rem\">P-ATIVO</span>\n",
              "</mark>\n",
              " \n",
              "<mark class=\"entity\" style=\"background: #ddd; padding: 0.45em 0.6em; margin: 0 0.25em; line-height: 1; border-radius: 0.35em;\">\n",
              "    Kavium\n",
              "    <span style=\"font-size: 0.8em; font-weight: bold; line-height: 1; border-radius: 0.35em; vertical-align: middle; margin-left: 0.5rem\">P-ATIVO</span>\n",
              "</mark>\n",
              " \n",
              "<mark class=\"entity\" style=\"background: #ddd; padding: 0.45em 0.6em; margin: 0 0.25em; line-height: 1; border-radius: 0.35em;\">\n",
              "    Aipri\n",
              "    <span style=\"font-size: 0.8em; font-weight: bold; line-height: 1; border-radius: 0.35em; vertical-align: middle; margin-left: 0.5rem\">P-ATIVO</span>\n",
              "</mark>\n",
              " \n",
              "<mark class=\"entity\" style=\"background: #ddd; padding: 0.45em 0.6em; margin: 0 0.25em; line-height: 1; border-radius: 0.35em;\">\n",
              "    Harip\n",
              "    <span style=\"font-size: 0.8em; font-weight: bold; line-height: 1; border-radius: 0.35em; vertical-align: middle; margin-left: 0.5rem\">MED-SIMILAR</span>\n",
              "</mark>\n",
              " \n",
              "<mark class=\"entity\" style=\"background: #ddd; padding: 0.45em 0.6em; margin: 0 0.25em; line-height: 1; border-radius: 0.35em;\">\n",
              "    Toarip\n",
              "    <span style=\"font-size: 0.8em; font-weight: bold; line-height: 1; border-radius: 0.35em; vertical-align: middle; margin-left: 0.5rem\">MED-SIMILAR</span>\n",
              "</mark>\n",
              ".</div></span>"
            ]
          },
          "metadata": {}
        },
        {
          "output_type": "stream",
          "name": "stdout",
          "text": [
            " entities: ('aripiprazol', 'esquizofrenia') --> predicted relation:(P_ATIVO_DE-0.5976908206939697) ---> predicted entity: ('P-ATIVO', 'MED-SIMILAR')\n",
            " entities: ('aripiprazol', 'Confilify') --> predicted relation:(P_ATIVO_DE-0.9203481674194336) ---> predicted entity: ('P-ATIVO', 'MED-SIMILAR')\n",
            " entities: ('esquizofrenia', 'Confilify') --> predicted relation:(P_ATIVO_DE-0.6884561777114868) ---> predicted entity: ('MED-SIMILAR', 'MED-SIMILAR')\n",
            " entities: ('aripiprazol', 'Sensaz') --> predicted relation:(P_ATIVO_DE-0.8534793853759766) ---> predicted entity: ('P-ATIVO', 'P-ATIVO')\n",
            " entities: ('Abilify', 'aripiprazol') --> predicted relation: (MED_REFERENCIA_DE-0.3047448694705963) ---> predicted entity: ('MED-REF', 'P-ATIVO')\n",
            " entities: ('Abilify', 'menor') --> predicted relation: (MED_REFERENCIA_DE-0.9880387187004089) ---> predicted entity: ('MED-REF', 'QUANT')\n",
            " entities: ('Abilify', 'metabólito') --> predicted relation: (MED_REFERENCIA_DE-0.9099193215370178) ---> predicted entity: ('MED-REF', 'P-ATIVO')\n",
            " entities: ('Abilify', 'dehidro-aripiprazol') --> predicted relation: (MED_REFERENCIA_DE-0.8812524080276489) ---> predicted entity: ('MED-REF', 'P-ATIVO')\n",
            " entities: ('aripiprazol', 'Abilify') --> predicted relation:(P_ATIVO_DE-0.8839155435562134) ---> predicted entity: ('P-ATIVO', 'MED-REF')\n",
            " entities: ('aripiprazol', 'menor') --> predicted relation:(P_ATIVO_DE-0.8982469439506531) ---> predicted entity: ('P-ATIVO', 'QUANT')\n",
            " entities: ('aripiprazol', 'metabólito') --> predicted relation:(P_ATIVO_DE-0.7889676094055176) ---> predicted entity: ('P-ATIVO', 'P-ATIVO')\n",
            " entities: ('aripiprazol', 'dehidro-aripiprazol') --> predicted relation:(P_ATIVO_DE-0.8125189542770386) ---> predicted entity: ('P-ATIVO', 'P-ATIVO')\n",
            " entities: ('metabólito', 'Abilify') --> predicted relation:(P_ATIVO_DE-0.47314974665641785) ---> predicted entity: ('P-ATIVO', 'MED-REF')\n",
            " entities: ('metabólito', 'menor') --> predicted relation:(P_ATIVO_DE-0.5100857615470886) ---> predicted entity: ('P-ATIVO', 'QUANT')\n",
            " entities: ('metabólito', 'dehidro-aripiprazol') --> predicted relation:(P_ATIVO_DE-0.33825352787971497) ---> predicted entity: ('P-ATIVO', 'P-ATIVO')\n",
            " entities: ('dehidro-aripiprazol', 'Abilify') --> predicted relation:(P_ATIVO_DE-0.24840447306632996) ---> predicted entity: ('P-ATIVO', 'MED-REF')\n",
            " entities: ('dehidro-aripiprazol', 'menor') --> predicted relation:(P_ATIVO_DE-0.2770209312438965) ---> predicted entity: ('P-ATIVO', 'QUANT')\n",
            " entities: ('Aripiprazol', 'Kavium') --> predicted relation:(P_ATIVO_DE-0.9328082203865051) ---> predicted entity: ('P-ATIVO', 'P-ATIVO')\n",
            " entities: ('Aripiprazol', 'Aipri') --> predicted relation:(P_ATIVO_DE-0.917127251625061) ---> predicted entity: ('P-ATIVO', 'P-ATIVO')\n",
            " entities: ('Aripiprazol', 'Harip') --> predicted relation:(P_ATIVO_DE-0.9033337235450745) ---> predicted entity: ('P-ATIVO', 'MED-SIMILAR')\n",
            " entities: ('Aripiprazol', 'Toarip') --> predicted relation:(P_ATIVO_DE-0.8740463852882385) ---> predicted entity: ('P-ATIVO', 'MED-SIMILAR')\n",
            " entities: ('Kavium', 'Aipri') --> predicted relation: (MED_REFERENCIA_DE-0.2570415437221527) ---> predicted entity: ('P-ATIVO', 'P-ATIVO')\n",
            " entities: ('Kavium', 'Harip') --> predicted relation: (MED_REFERENCIA_DE-0.3926510512828827) ---> predicted entity: ('P-ATIVO', 'MED-SIMILAR')\n",
            " entities: ('Aipri', 'Harip') --> predicted relation: (MED_REFERENCIA_DE-0.20401827991008759) ---> predicted entity: ('P-ATIVO', 'MED-SIMILAR')\n",
            "\n",
            "\n"
          ]
        },
        {
          "output_type": "execute_result",
          "data": {
            "text/plain": [
              "                                                                  Entities  \\\n",
              "Sentence                                                                     \n",
              "Abilify 10mg com 30 comprimidosindicado como te... 0               Abilify   \n",
              "                                                   1           aripiprazol   \n",
              "                                                   2         esquizofrenia   \n",
              "                                                   3             Confilify   \n",
              "                                                   4                Sensaz   \n",
              "                                                   5           aripiprazol   \n",
              "                                                   6               Abilify   \n",
              "                                                   7           aripiprazol   \n",
              "                                                   8                 menor   \n",
              "                                                   9            metabólito   \n",
              "                                                   10  dehidro-aripiprazol   \n",
              "                                                   11          Aripiprazol   \n",
              "                                                   12               Kavium   \n",
              "                                                   13                Aipri   \n",
              "                                                   14                Harip   \n",
              "                                                   15               Toarip   \n",
              "\n",
              "                                                            labels  \n",
              "Sentence                                                            \n",
              "Abilify 10mg com 30 comprimidosindicado como te... 0       MED-REF  \n",
              "                                                   1       P-ATIVO  \n",
              "                                                   2   MED-SIMILAR  \n",
              "                                                   3   MED-SIMILAR  \n",
              "                                                   4       P-ATIVO  \n",
              "                                                   5       P-ATIVO  \n",
              "                                                   6       MED-REF  \n",
              "                                                   7       P-ATIVO  \n",
              "                                                   8         QUANT  \n",
              "                                                   9       P-ATIVO  \n",
              "                                                   10      P-ATIVO  \n",
              "                                                   11      P-ATIVO  \n",
              "                                                   12      P-ATIVO  \n",
              "                                                   13      P-ATIVO  \n",
              "                                                   14  MED-SIMILAR  \n",
              "                                                   15  MED-SIMILAR  "
            ],
            "text/html": [
              "\n",
              "  <div id=\"df-8d9327d5-9666-495e-9b62-92473c690d3b\">\n",
              "    <div class=\"colab-df-container\">\n",
              "      <div>\n",
              "<style scoped>\n",
              "    .dataframe tbody tr th:only-of-type {\n",
              "        vertical-align: middle;\n",
              "    }\n",
              "\n",
              "    .dataframe tbody tr th {\n",
              "        vertical-align: top;\n",
              "    }\n",
              "\n",
              "    .dataframe thead th {\n",
              "        text-align: right;\n",
              "    }\n",
              "</style>\n",
              "<table border=\"1\" class=\"dataframe\">\n",
              "  <thead>\n",
              "    <tr style=\"text-align: right;\">\n",
              "      <th></th>\n",
              "      <th></th>\n",
              "      <th>Entities</th>\n",
              "      <th>labels</th>\n",
              "    </tr>\n",
              "    <tr>\n",
              "      <th>Sentence</th>\n",
              "      <th></th>\n",
              "      <th></th>\n",
              "      <th></th>\n",
              "    </tr>\n",
              "  </thead>\n",
              "  <tbody>\n",
              "    <tr>\n",
              "      <th rowspan=\"16\" valign=\"top\">Abilify 10mg com 30 comprimidosindicado como terapia adjuntiva ao lítio ou valproato para o tratamento agudo de episódios de mania ou mistos associados ao transtorno bipolar do tipo I. O mecanismo de ação do aripiprazol, como ocorre com outras drogas eficazes no tratamento de transtorno bipolar, com\\nConfilify desconhecido. No entanto, foi proposto que a eficácia do Sensaz, de principio ativo aripiprazol é mediada por efeitos em receptores no sistema nervoso central. A atividade de Abilify principalmente devida à droga, aripiprazol em menor medida ao seu metabólito principal, dehidro-aripiprazol. sendo o Aripiprazol o agente ativo do Kavium, e do Aipri bem com,do Harip e Toarip de com agente Aripiprazol.</th>\n",
              "      <th>0</th>\n",
              "      <td>Abilify</td>\n",
              "      <td>MED-REF</td>\n",
              "    </tr>\n",
              "    <tr>\n",
              "      <th>1</th>\n",
              "      <td>aripiprazol</td>\n",
              "      <td>P-ATIVO</td>\n",
              "    </tr>\n",
              "    <tr>\n",
              "      <th>2</th>\n",
              "      <td>esquizofrenia</td>\n",
              "      <td>MED-SIMILAR</td>\n",
              "    </tr>\n",
              "    <tr>\n",
              "      <th>3</th>\n",
              "      <td>Confilify</td>\n",
              "      <td>MED-SIMILAR</td>\n",
              "    </tr>\n",
              "    <tr>\n",
              "      <th>4</th>\n",
              "      <td>Sensaz</td>\n",
              "      <td>P-ATIVO</td>\n",
              "    </tr>\n",
              "    <tr>\n",
              "      <th>5</th>\n",
              "      <td>aripiprazol</td>\n",
              "      <td>P-ATIVO</td>\n",
              "    </tr>\n",
              "    <tr>\n",
              "      <th>6</th>\n",
              "      <td>Abilify</td>\n",
              "      <td>MED-REF</td>\n",
              "    </tr>\n",
              "    <tr>\n",
              "      <th>7</th>\n",
              "      <td>aripiprazol</td>\n",
              "      <td>P-ATIVO</td>\n",
              "    </tr>\n",
              "    <tr>\n",
              "      <th>8</th>\n",
              "      <td>menor</td>\n",
              "      <td>QUANT</td>\n",
              "    </tr>\n",
              "    <tr>\n",
              "      <th>9</th>\n",
              "      <td>metabólito</td>\n",
              "      <td>P-ATIVO</td>\n",
              "    </tr>\n",
              "    <tr>\n",
              "      <th>10</th>\n",
              "      <td>dehidro-aripiprazol</td>\n",
              "      <td>P-ATIVO</td>\n",
              "    </tr>\n",
              "    <tr>\n",
              "      <th>11</th>\n",
              "      <td>Aripiprazol</td>\n",
              "      <td>P-ATIVO</td>\n",
              "    </tr>\n",
              "    <tr>\n",
              "      <th>12</th>\n",
              "      <td>Kavium</td>\n",
              "      <td>P-ATIVO</td>\n",
              "    </tr>\n",
              "    <tr>\n",
              "      <th>13</th>\n",
              "      <td>Aipri</td>\n",
              "      <td>P-ATIVO</td>\n",
              "    </tr>\n",
              "    <tr>\n",
              "      <th>14</th>\n",
              "      <td>Harip</td>\n",
              "      <td>MED-SIMILAR</td>\n",
              "    </tr>\n",
              "    <tr>\n",
              "      <th>15</th>\n",
              "      <td>Toarip</td>\n",
              "      <td>MED-SIMILAR</td>\n",
              "    </tr>\n",
              "  </tbody>\n",
              "</table>\n",
              "</div>\n",
              "      <button class=\"colab-df-convert\" onclick=\"convertToInteractive('df-8d9327d5-9666-495e-9b62-92473c690d3b')\"\n",
              "              title=\"Convert this dataframe to an interactive table.\"\n",
              "              style=\"display:none;\">\n",
              "        \n",
              "  <svg xmlns=\"http://www.w3.org/2000/svg\" height=\"24px\"viewBox=\"0 0 24 24\"\n",
              "       width=\"24px\">\n",
              "    <path d=\"M0 0h24v24H0V0z\" fill=\"none\"/>\n",
              "    <path d=\"M18.56 5.44l.94 2.06.94-2.06 2.06-.94-2.06-.94-.94-2.06-.94 2.06-2.06.94zm-11 1L8.5 8.5l.94-2.06 2.06-.94-2.06-.94L8.5 2.5l-.94 2.06-2.06.94zm10 10l.94 2.06.94-2.06 2.06-.94-2.06-.94-.94-2.06-.94 2.06-2.06.94z\"/><path d=\"M17.41 7.96l-1.37-1.37c-.4-.4-.92-.59-1.43-.59-.52 0-1.04.2-1.43.59L10.3 9.45l-7.72 7.72c-.78.78-.78 2.05 0 2.83L4 21.41c.39.39.9.59 1.41.59.51 0 1.02-.2 1.41-.59l7.78-7.78 2.81-2.81c.8-.78.8-2.07 0-2.86zM5.41 20L4 18.59l7.72-7.72 1.47 1.35L5.41 20z\"/>\n",
              "  </svg>\n",
              "      </button>\n",
              "      \n",
              "  <style>\n",
              "    .colab-df-container {\n",
              "      display:flex;\n",
              "      flex-wrap:wrap;\n",
              "      gap: 12px;\n",
              "    }\n",
              "\n",
              "    .colab-df-convert {\n",
              "      background-color: #E8F0FE;\n",
              "      border: none;\n",
              "      border-radius: 50%;\n",
              "      cursor: pointer;\n",
              "      display: none;\n",
              "      fill: #1967D2;\n",
              "      height: 32px;\n",
              "      padding: 0 0 0 0;\n",
              "      width: 32px;\n",
              "    }\n",
              "\n",
              "    .colab-df-convert:hover {\n",
              "      background-color: #E2EBFA;\n",
              "      box-shadow: 0px 1px 2px rgba(60, 64, 67, 0.3), 0px 1px 3px 1px rgba(60, 64, 67, 0.15);\n",
              "      fill: #174EA6;\n",
              "    }\n",
              "\n",
              "    [theme=dark] .colab-df-convert {\n",
              "      background-color: #3B4455;\n",
              "      fill: #D2E3FC;\n",
              "    }\n",
              "\n",
              "    [theme=dark] .colab-df-convert:hover {\n",
              "      background-color: #434B5C;\n",
              "      box-shadow: 0px 1px 3px 1px rgba(0, 0, 0, 0.15);\n",
              "      filter: drop-shadow(0px 1px 2px rgba(0, 0, 0, 0.3));\n",
              "      fill: #FFFFFF;\n",
              "    }\n",
              "  </style>\n",
              "\n",
              "      <script>\n",
              "        const buttonEl =\n",
              "          document.querySelector('#df-8d9327d5-9666-495e-9b62-92473c690d3b button.colab-df-convert');\n",
              "        buttonEl.style.display =\n",
              "          google.colab.kernel.accessAllowed ? 'block' : 'none';\n",
              "\n",
              "        async function convertToInteractive(key) {\n",
              "          const element = document.querySelector('#df-8d9327d5-9666-495e-9b62-92473c690d3b');\n",
              "          const dataTable =\n",
              "            await google.colab.kernel.invokeFunction('convertToInteractive',\n",
              "                                                     [key], {});\n",
              "          if (!dataTable) return;\n",
              "\n",
              "          const docLinkHtml = 'Like what you see? Visit the ' +\n",
              "            '<a target=\"_blank\" href=https://colab.research.google.com/notebooks/data_table.ipynb>data table notebook</a>'\n",
              "            + ' to learn more about interactive tables.';\n",
              "          element.innerHTML = '';\n",
              "          dataTable['output_type'] = 'display_data';\n",
              "          await google.colab.output.renderOutput(dataTable, element);\n",
              "          const docLink = document.createElement('div');\n",
              "          docLink.innerHTML = docLinkHtml;\n",
              "          element.appendChild(docLink);\n",
              "        }\n",
              "      </script>\n",
              "    </div>\n",
              "  </div>\n",
              "  "
            ]
          },
          "metadata": {},
          "execution_count": 24
        }
      ]
    },
    {
      "cell_type": "code",
      "source": [
        ""
      ],
      "metadata": {
        "id": "ju3yKuYaH-Nu"
      },
      "execution_count": null,
      "outputs": []
    },
    {
      "cell_type": "markdown",
      "source": [
        "## Construir grafos de conhecimento no Neo4J com Cypher"
      ],
      "metadata": {
        "id": "N-mdqQJxspT9"
      }
    },
    {
      "cell_type": "code",
      "source": [
        ""
      ],
      "metadata": {
        "id": "1PBt998TH-Xf"
      },
      "execution_count": null,
      "outputs": []
    },
    {
      "cell_type": "code",
      "source": [
        ""
      ],
      "metadata": {
        "id": "WTqjmBupH-b8"
      },
      "execution_count": null,
      "outputs": []
    },
    {
      "cell_type": "code",
      "source": [
        ""
      ],
      "metadata": {
        "id": "eY4oJD_YH-hf"
      },
      "execution_count": null,
      "outputs": []
    },
    {
      "cell_type": "code",
      "source": [
        ""
      ],
      "metadata": {
        "id": "6338K9ROH-pn"
      },
      "execution_count": null,
      "outputs": []
    }
  ]
}